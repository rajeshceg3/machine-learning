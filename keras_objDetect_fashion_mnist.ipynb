{
  "nbformat": 4,
  "nbformat_minor": 0,
  "metadata": {
    "colab": {
      "name": "keras_objectDetection.ipynb",
      "provenance": [],
      "authorship_tag": "ABX9TyMH9/+PNmacNyKVDaqhZIqP"
    },
    "kernelspec": {
      "name": "python3",
      "display_name": "Python 3"
    }
  },
  "cells": [
    {
      "cell_type": "code",
      "metadata": {
        "id": "SKmNapOEdtwF",
        "colab_type": "code",
        "colab": {}
      },
      "source": [
        "from keras.datasets import fashion_mnist\n",
        "from keras.models import Sequential\n",
        "from keras.layers import Dense,Flatten\n",
        "(train_images, train_labels),(test_images,test_labels) = fashion_mnist.load_data()\n",
        "train_images = train_images/255.0\n",
        "test_images = test_images/255.0\n"
      ],
      "execution_count": 0,
      "outputs": []
    },
    {
      "cell_type": "code",
      "metadata": {
        "id": "NTH378LxeiEb",
        "colab_type": "code",
        "outputId": "87271fa4-4057-4161-814b-7524ee1e6a69",
        "colab": {
          "base_uri": "https://localhost:8080/",
          "height": 204
        }
      },
      "source": [
        "model = Sequential()\n",
        "model.add(Flatten(input_shape=(28,28)))\n",
        "model.add(Dense(128,activation='relu'))\n",
        "model.add(Dense(10,activation='softmax'))\n",
        "model.compile(optimizer='adam',loss='sparse_categorical_crossentropy')\n",
        "model.fit(train_images,train_labels,epochs=5)\n"
      ],
      "execution_count": 0,
      "outputs": [
        {
          "output_type": "stream",
          "text": [
            "Epoch 1/5\n",
            "60000/60000 [==============================] - 6s 105us/step - loss: 0.4990\n",
            "Epoch 2/5\n",
            "60000/60000 [==============================] - 6s 102us/step - loss: 0.3725\n",
            "Epoch 3/5\n",
            "60000/60000 [==============================] - 6s 103us/step - loss: 0.3354\n",
            "Epoch 4/5\n",
            "60000/60000 [==============================] - 6s 108us/step - loss: 0.3132\n",
            "Epoch 5/5\n",
            "60000/60000 [==============================] - 7s 111us/step - loss: 0.2931\n"
          ],
          "name": "stdout"
        },
        {
          "output_type": "execute_result",
          "data": {
            "text/plain": [
              "<keras.callbacks.History at 0x7f4a65e5cef0>"
            ]
          },
          "metadata": {
            "tags": []
          },
          "execution_count": 8
        }
      ]
    },
    {
      "cell_type": "code",
      "metadata": {
        "id": "tusccmcJmrRC",
        "colab_type": "code",
        "outputId": "f8ecc996-8c46-49f5-f614-2f5628149c79",
        "colab": {
          "base_uri": "https://localhost:8080/",
          "height": 68
        }
      },
      "source": [
        "#test_loss, test_acc = model.evaluate(test_images,test_labels) \n",
        "predictions = model.predict(test_images)\n",
        "print(predictions[0])\n",
        "print(test_labels[0])"
      ],
      "execution_count": 0,
      "outputs": [
        {
          "output_type": "stream",
          "text": [
            "[2.8551232e-05 3.6192731e-08 5.8441110e-06 7.9405925e-07 6.2305298e-06\n",
            " 1.3845352e-02 2.3861363e-05 9.8545969e-02 1.1504188e-05 8.8753182e-01]\n",
            "9\n"
          ],
          "name": "stdout"
        }
      ]
    }
  ]
}
