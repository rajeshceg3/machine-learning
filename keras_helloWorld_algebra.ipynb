{
  "nbformat": 4,
  "nbformat_minor": 0,
  "metadata": {
    "colab": {
      "name": "keras_helloWorld.ipynb",
      "provenance": [],
      "authorship_tag": "ABX9TyOEM+oTni7O7Lh9mdCmLAVO"
    },
    "kernelspec": {
      "name": "python3",
      "display_name": "Python 3"
    }
  },
  "cells": [
    {
      "cell_type": "code",
      "metadata": {
        "id": "LCGx4WodSmy8",
        "colab_type": "code",
        "colab": {}
      },
      "source": [
        "from keras.models import Sequential\n",
        "from keras.layers import Dense\n",
        "model = Sequential()\n",
        "model.add(Dense(units=1, input_shape=[1]))\n",
        "model.compile(optimizer='sgd',loss='mean_squared_error')\n"
      ],
      "execution_count": 0,
      "outputs": []
    },
    {
      "cell_type": "code",
      "metadata": {
        "id": "tkhDAiFeSc5l",
        "colab_type": "code",
        "colab": {}
      },
      "source": [
        "import numpy as np\n",
        "xs = np.array([-1.0,0.0,1.0,2.0,3.0,4.0],dtype='float')\n",
        "ys = np.array([-3.0,-1.0,1.0,3.0,5.0,7.0],dtype='float')\n",
        "model.fit(xs,ys,epochs=500)"
      ],
      "execution_count": 0,
      "outputs": []
    },
    {
      "cell_type": "code",
      "metadata": {
        "id": "D0YiK_A5TbT3",
        "colab_type": "code",
        "outputId": "f94408cd-0628-40cf-ee0e-9abec2619211",
        "colab": {
          "base_uri": "https://localhost:8080/",
          "height": 34
        }
      },
      "source": [
        "model.predict([10])"
      ],
      "execution_count": 0,
      "outputs": [
        {
          "output_type": "execute_result",
          "data": {
            "text/plain": [
              "array([[18.98665]], dtype=float32)"
            ]
          },
          "metadata": {
            "tags": []
          },
          "execution_count": 9
        }
      ]
    }
  ]
}
