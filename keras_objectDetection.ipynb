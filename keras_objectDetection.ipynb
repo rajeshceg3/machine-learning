{
  "nbformat": 4,
  "nbformat_minor": 0,
  "metadata": {
    "colab": {
      "name": "keras_objectDetection.ipynb",
      "provenance": [],
      "authorship_tag": "ABX9TyP01qvyyzWjgcx8Uhe6W6Ny",
      "include_colab_link": true
    },
    "kernelspec": {
      "name": "python3",
      "display_name": "Python 3"
    }
  },
  "cells": [
    {
      "cell_type": "markdown",
      "metadata": {
        "id": "view-in-github",
        "colab_type": "text"
      },
      "source": [
        "<a href=\"https://colab.research.google.com/github/rajeshceg3/machine-learning/blob/master/keras_objectDetection.ipynb\" target=\"_parent\"><img src=\"https://colab.research.google.com/assets/colab-badge.svg\" alt=\"Open In Colab\"/></a>"
      ]
    },
    {
      "cell_type": "code",
      "metadata": {
        "id": "SKmNapOEdtwF",
        "colab_type": "code",
        "colab": {}
      },
      "source": [
        "from keras.datasets import fashion_mnist\n",
        "from keras.models import Sequential\n",
        "from keras.layers import Dense,Flatten\n",
        "(train_images, train_labels),(test_images,test_labels) = fashion_mnist.load_data()\n",
        "\n"
      ],
      "execution_count": 0,
      "outputs": []
    },
    {
      "cell_type": "code",
      "metadata": {
        "id": "NTH378LxeiEb",
        "colab_type": "code",
        "colab": {
          "base_uri": "https://localhost:8080/",
          "height": 204
        },
        "outputId": "2df3f7b0-f877-47f9-f080-90f189b98d39"
      },
      "source": [
        "model = Sequential()\n",
        "model.add(Flatten(input_shape=(28,28)))\n",
        "model.add(Dense(128,activation='relu'))\n",
        "model.add(Dense(10,activation='softmax'))\n",
        "model.compile(optimizer='adam',loss='sparse_categorical_crossentropy')\n",
        "model.fit(train_images,train_labels,epochs=5)\n"
      ],
      "execution_count": 9,
      "outputs": [
        {
          "output_type": "stream",
          "text": [
            "Epoch 1/5\n",
            "60000/60000 [==============================] - 7s 121us/step - loss: 14.4430\n",
            "Epoch 2/5\n",
            "60000/60000 [==============================] - 7s 119us/step - loss: 14.4871\n",
            "Epoch 3/5\n",
            "60000/60000 [==============================] - 7s 116us/step - loss: 14.5063\n",
            "Epoch 4/5\n",
            "60000/60000 [==============================] - 7s 114us/step - loss: 14.5063\n",
            "Epoch 5/5\n",
            "60000/60000 [==============================] - 7s 119us/step - loss: 14.5063\n"
          ],
          "name": "stdout"
        },
        {
          "output_type": "execute_result",
          "data": {
            "text/plain": [
              "<keras.callbacks.History at 0x7fbd78bf2ef0>"
            ]
          },
          "metadata": {
            "tags": []
          },
          "execution_count": 9
        }
      ]
    },
    {
      "cell_type": "code",
      "metadata": {
        "id": "tusccmcJmrRC",
        "colab_type": "code",
        "colab": {}
      },
      "source": [
        "test_loss, test_acc = model.evaluate(test_images,test_labels) \n",
        "predictions = model.predict(my_images)"
      ],
      "execution_count": 0,
      "outputs": []
    }
  ]
}